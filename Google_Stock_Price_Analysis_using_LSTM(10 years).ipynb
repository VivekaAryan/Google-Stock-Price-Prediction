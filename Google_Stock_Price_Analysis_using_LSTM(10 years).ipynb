{
  "nbformat": 4,
  "nbformat_minor": 0,
  "metadata": {
    "colab": {
      "name": "Google Stock Price Analysis using LSTM.ipynb",
      "provenance": []
    },
    "kernelspec": {
      "name": "python3",
      "display_name": "Python 3"
    }
  },
  "cells": [
    {
      "cell_type": "markdown",
      "metadata": {
        "id": "RUoChef1vEre",
        "colab_type": "text"
      },
      "source": [
        "Predicting the Google Stock price for the month of Jan 2017 based on the information gathered from the previous 5 years."
      ]
    },
    {
      "cell_type": "code",
      "metadata": {
        "id": "SvG_vtoIpldE",
        "colab_type": "code",
        "colab": {}
      },
      "source": [
        "import pandas as pd\n",
        "import numpy as np\n",
        "import matplotlib.pyplot as plt"
      ],
      "execution_count": 1,
      "outputs": []
    },
    {
      "cell_type": "code",
      "metadata": {
        "id": "e2owuyh2uBix",
        "colab_type": "code",
        "colab": {}
      },
      "source": [
        "df_train = pd.read_csv('Google_Stock_Price_Train.csv')"
      ],
      "execution_count": 2,
      "outputs": []
    },
    {
      "cell_type": "code",
      "metadata": {
        "id": "wDOomZtH6tEP",
        "colab_type": "code",
        "colab": {
          "base_uri": "https://localhost:8080/",
          "height": 34
        },
        "outputId": "2732fa0b-03ef-4f5a-81d9-962aceb5f90f"
      },
      "source": [
        "df_train.shape"
      ],
      "execution_count": 35,
      "outputs": [
        {
          "output_type": "execute_result",
          "data": {
            "text/plain": [
              "(1258, 6)"
            ]
          },
          "metadata": {
            "tags": []
          },
          "execution_count": 35
        }
      ]
    },
    {
      "cell_type": "code",
      "metadata": {
        "id": "YcfI9fRsuhx4",
        "colab_type": "code",
        "colab": {}
      },
      "source": [
        "training_set = df_train.iloc[:, 1:2].values"
      ],
      "execution_count": 3,
      "outputs": []
    },
    {
      "cell_type": "code",
      "metadata": {
        "id": "uvyK7AJJvCgP",
        "colab_type": "code",
        "colab": {
          "base_uri": "https://localhost:8080/",
          "height": 136
        },
        "outputId": "de813c3e-1e33-45e5-fedb-7c9707e152a8"
      },
      "source": [
        "training_set"
      ],
      "execution_count": 4,
      "outputs": [
        {
          "output_type": "execute_result",
          "data": {
            "text/plain": [
              "array([[325.25],\n",
              "       [331.27],\n",
              "       [329.83],\n",
              "       ...,\n",
              "       [793.7 ],\n",
              "       [783.33],\n",
              "       [782.75]])"
            ]
          },
          "metadata": {
            "tags": []
          },
          "execution_count": 4
        }
      ]
    },
    {
      "cell_type": "markdown",
      "metadata": {
        "id": "8Xw52Pt0WU8l",
        "colab_type": "text"
      },
      "source": [
        "## PART 1: Data Preprocessing"
      ]
    },
    {
      "cell_type": "code",
      "metadata": {
        "id": "so5H5lgYvEI_",
        "colab_type": "code",
        "colab": {}
      },
      "source": [
        "# Normalization\n",
        "from sklearn.preprocessing import MinMaxScaler\n",
        "sc = MinMaxScaler(feature_range = (0, 1))\n",
        "training_set_scaled = sc.fit_transform(training_set)"
      ],
      "execution_count": 5,
      "outputs": []
    },
    {
      "cell_type": "code",
      "metadata": {
        "id": "qyj3zD_sAXej",
        "colab_type": "code",
        "colab": {
          "base_uri": "https://localhost:8080/",
          "height": 136
        },
        "outputId": "685b5b4c-ca82-4eb9-ab2f-9c2d05a7247b"
      },
      "source": [
        "training_set_scaled"
      ],
      "execution_count": 6,
      "outputs": [
        {
          "output_type": "execute_result",
          "data": {
            "text/plain": [
              "array([[0.08581368],\n",
              "       [0.09701243],\n",
              "       [0.09433366],\n",
              "       ...,\n",
              "       [0.95725128],\n",
              "       [0.93796041],\n",
              "       [0.93688146]])"
            ]
          },
          "metadata": {
            "tags": []
          },
          "execution_count": 6
        }
      ]
    },
    {
      "cell_type": "code",
      "metadata": {
        "id": "erOLNjBQBLOG",
        "colab_type": "code",
        "colab": {}
      },
      "source": [
        "# Creating a data structure with 60 timeseps and 1 output\n",
        "X_train = []\n",
        "y_train = []\n",
        "for i in range(60, 1258):\n",
        "  X_train.append(training_set_scaled[i - 60:i, 0])\n",
        "  y_train.append(training_set_scaled[i, 0])\n",
        "\n",
        "X_train, y_train = np.array(X_train), np.array(y_train)"
      ],
      "execution_count": 7,
      "outputs": []
    },
    {
      "cell_type": "code",
      "metadata": {
        "id": "nVr7HdttOrvC",
        "colab_type": "code",
        "colab": {
          "base_uri": "https://localhost:8080/",
          "height": 238
        },
        "outputId": "a96b8e7d-e66f-4a73-dbec-d300d48e5cfc"
      },
      "source": [
        "X_train"
      ],
      "execution_count": 8,
      "outputs": [
        {
          "output_type": "execute_result",
          "data": {
            "text/plain": [
              "array([[0.08581368, 0.09701243, 0.09433366, ..., 0.07846566, 0.08034452,\n",
              "        0.08497656],\n",
              "       [0.09701243, 0.09433366, 0.09156187, ..., 0.08034452, 0.08497656,\n",
              "        0.08627874],\n",
              "       [0.09433366, 0.09156187, 0.07984225, ..., 0.08497656, 0.08627874,\n",
              "        0.08471612],\n",
              "       ...,\n",
              "       [0.92106928, 0.92438053, 0.93048218, ..., 0.95475854, 0.95204256,\n",
              "        0.95163331],\n",
              "       [0.92438053, 0.93048218, 0.9299055 , ..., 0.95204256, 0.95163331,\n",
              "        0.95725128],\n",
              "       [0.93048218, 0.9299055 , 0.93113327, ..., 0.95163331, 0.95725128,\n",
              "        0.93796041]])"
            ]
          },
          "metadata": {
            "tags": []
          },
          "execution_count": 8
        }
      ]
    },
    {
      "cell_type": "code",
      "metadata": {
        "id": "TeDXdv0bOtxI",
        "colab_type": "code",
        "colab": {
          "base_uri": "https://localhost:8080/",
          "height": 51
        },
        "outputId": "77503052-d489-411f-dd7f-49cca7a359f1"
      },
      "source": [
        "y_train"
      ],
      "execution_count": 9,
      "outputs": [
        {
          "output_type": "execute_result",
          "data": {
            "text/plain": [
              "array([0.08627874, 0.08471612, 0.07454052, ..., 0.95725128, 0.93796041,\n",
              "       0.93688146])"
            ]
          },
          "metadata": {
            "tags": []
          },
          "execution_count": 9
        }
      ]
    },
    {
      "cell_type": "code",
      "metadata": {
        "id": "T-IFpskbPMV4",
        "colab_type": "code",
        "colab": {}
      },
      "source": [
        "# Reshaping\n",
        "X_train = np.reshape(X_train, (X_train.shape[0], X_train.shape[1], 1))"
      ],
      "execution_count": 10,
      "outputs": []
    },
    {
      "cell_type": "code",
      "metadata": {
        "id": "FGje7mDyWaob",
        "colab_type": "code",
        "colab": {
          "base_uri": "https://localhost:8080/",
          "height": 850
        },
        "outputId": "20c5b693-7d42-4cf1-ed8e-235487141067"
      },
      "source": [
        "X_train"
      ],
      "execution_count": 11,
      "outputs": [
        {
          "output_type": "execute_result",
          "data": {
            "text/plain": [
              "array([[[0.08581368],\n",
              "        [0.09701243],\n",
              "        [0.09433366],\n",
              "        ...,\n",
              "        [0.07846566],\n",
              "        [0.08034452],\n",
              "        [0.08497656]],\n",
              "\n",
              "       [[0.09701243],\n",
              "        [0.09433366],\n",
              "        [0.09156187],\n",
              "        ...,\n",
              "        [0.08034452],\n",
              "        [0.08497656],\n",
              "        [0.08627874]],\n",
              "\n",
              "       [[0.09433366],\n",
              "        [0.09156187],\n",
              "        [0.07984225],\n",
              "        ...,\n",
              "        [0.08497656],\n",
              "        [0.08627874],\n",
              "        [0.08471612]],\n",
              "\n",
              "       ...,\n",
              "\n",
              "       [[0.92106928],\n",
              "        [0.92438053],\n",
              "        [0.93048218],\n",
              "        ...,\n",
              "        [0.95475854],\n",
              "        [0.95204256],\n",
              "        [0.95163331]],\n",
              "\n",
              "       [[0.92438053],\n",
              "        [0.93048218],\n",
              "        [0.9299055 ],\n",
              "        ...,\n",
              "        [0.95204256],\n",
              "        [0.95163331],\n",
              "        [0.95725128]],\n",
              "\n",
              "       [[0.93048218],\n",
              "        [0.9299055 ],\n",
              "        [0.93113327],\n",
              "        ...,\n",
              "        [0.95163331],\n",
              "        [0.95725128],\n",
              "        [0.93796041]]])"
            ]
          },
          "metadata": {
            "tags": []
          },
          "execution_count": 11
        }
      ]
    },
    {
      "cell_type": "markdown",
      "metadata": {
        "id": "on6DG9TDWfO7",
        "colab_type": "text"
      },
      "source": [
        "## PART 2: Building the RNN"
      ]
    },
    {
      "cell_type": "code",
      "metadata": {
        "id": "dYeNlotjWb16",
        "colab_type": "code",
        "colab": {
          "base_uri": "https://localhost:8080/",
          "height": 34
        },
        "outputId": "d14849a2-e601-4788-97db-d5cd6708f3a5"
      },
      "source": [
        "from keras.models import Sequential\n",
        "from keras.layers import Dense\n",
        "from keras.layers import LSTM\n",
        "from keras.layers import Dropout"
      ],
      "execution_count": 12,
      "outputs": [
        {
          "output_type": "stream",
          "text": [
            "Using TensorFlow backend.\n"
          ],
          "name": "stderr"
        }
      ]
    },
    {
      "cell_type": "code",
      "metadata": {
        "id": "Rs2k7Sp_X8lZ",
        "colab_type": "code",
        "colab": {}
      },
      "source": [
        "# Initializing the RNN\n",
        "regressor = Sequential()"
      ],
      "execution_count": 13,
      "outputs": []
    },
    {
      "cell_type": "code",
      "metadata": {
        "id": "9mQ0hhZadrJR",
        "colab_type": "code",
        "colab": {}
      },
      "source": [
        "# First LSTM layer and Dropout Regularization\n",
        "regressor.add(LSTM(units = 50, return_sequences = True, input_shape = (X_train.shape[1], 1)))\n",
        "regressor.add(Dropout(0.2))"
      ],
      "execution_count": 14,
      "outputs": []
    },
    {
      "cell_type": "code",
      "metadata": {
        "id": "A1NegmrffbfX",
        "colab_type": "code",
        "colab": {}
      },
      "source": [
        "# Second LSTM layer and Dropout Regularization\n",
        "regressor.add(LSTM(units = 50, return_sequences = True))\n",
        "regressor.add(Dropout(0.2))"
      ],
      "execution_count": 15,
      "outputs": []
    },
    {
      "cell_type": "code",
      "metadata": {
        "id": "P8_R9l8TgGZx",
        "colab_type": "code",
        "colab": {}
      },
      "source": [
        "# Third LSTM layer and Dropout Regularization\n",
        "regressor.add(LSTM(units = 50, return_sequences = True))\n",
        "regressor.add(Dropout(0.2))"
      ],
      "execution_count": 16,
      "outputs": []
    },
    {
      "cell_type": "code",
      "metadata": {
        "id": "IZSPk5F-gI6D",
        "colab_type": "code",
        "colab": {}
      },
      "source": [
        "# Fourth LSTM layer and Dropout Regularization\n",
        "regressor.add(LSTM(units = 50))\n",
        "regressor.add(Dropout(0.2))"
      ],
      "execution_count": 17,
      "outputs": []
    },
    {
      "cell_type": "code",
      "metadata": {
        "id": "mWb5G2FOgZao",
        "colab_type": "code",
        "colab": {}
      },
      "source": [
        "# Adding the Output Layer\n",
        "regressor.add(Dense(units = 1))"
      ],
      "execution_count": 18,
      "outputs": []
    },
    {
      "cell_type": "code",
      "metadata": {
        "id": "IPuWUsjyg5P-",
        "colab_type": "code",
        "colab": {}
      },
      "source": [
        "# Compiling the RNN\n",
        "regressor.compile(optimizer = 'adam', loss = 'mean_squared_error')"
      ],
      "execution_count": 19,
      "outputs": []
    },
    {
      "cell_type": "code",
      "metadata": {
        "id": "BK9pk9kfh3kr",
        "colab_type": "code",
        "colab": {
          "base_uri": "https://localhost:8080/",
          "height": 1000
        },
        "outputId": "52cb30d2-6e27-4cc1-bee2-1a24cc40646a"
      },
      "source": [
        "# Fitting the RNN to the Training Set\n",
        "regressor.fit(x = X_train, y = y_train, epochs = 100, batch_size = 32)"
      ],
      "execution_count": 20,
      "outputs": [
        {
          "output_type": "stream",
          "text": [
            "Epoch 1/100\n",
            "1198/1198 [==============================] - 7s 6ms/step - loss: 0.0357\n",
            "Epoch 2/100\n",
            "1198/1198 [==============================] - 5s 4ms/step - loss: 0.0057\n",
            "Epoch 3/100\n",
            "1198/1198 [==============================] - 5s 4ms/step - loss: 0.0060\n",
            "Epoch 4/100\n",
            "1198/1198 [==============================] - 5s 4ms/step - loss: 0.0062\n",
            "Epoch 5/100\n",
            "1198/1198 [==============================] - 5s 4ms/step - loss: 0.0048\n",
            "Epoch 6/100\n",
            "1198/1198 [==============================] - 5s 4ms/step - loss: 0.0045\n",
            "Epoch 7/100\n",
            "1198/1198 [==============================] - 5s 4ms/step - loss: 0.0045\n",
            "Epoch 8/100\n",
            "1198/1198 [==============================] - 5s 4ms/step - loss: 0.0048\n",
            "Epoch 9/100\n",
            "1198/1198 [==============================] - 5s 4ms/step - loss: 0.0041\n",
            "Epoch 10/100\n",
            "1198/1198 [==============================] - 5s 4ms/step - loss: 0.0045\n",
            "Epoch 11/100\n",
            "1198/1198 [==============================] - 5s 4ms/step - loss: 0.0049\n",
            "Epoch 12/100\n",
            "1198/1198 [==============================] - 5s 4ms/step - loss: 0.0038\n",
            "Epoch 13/100\n",
            "1198/1198 [==============================] - 5s 4ms/step - loss: 0.0041\n",
            "Epoch 14/100\n",
            "1198/1198 [==============================] - 5s 4ms/step - loss: 0.0039\n",
            "Epoch 15/100\n",
            "1198/1198 [==============================] - 5s 4ms/step - loss: 0.0039\n",
            "Epoch 16/100\n",
            "1198/1198 [==============================] - 5s 4ms/step - loss: 0.0037\n",
            "Epoch 17/100\n",
            "1198/1198 [==============================] - 5s 4ms/step - loss: 0.0034\n",
            "Epoch 18/100\n",
            "1198/1198 [==============================] - 5s 4ms/step - loss: 0.0035\n",
            "Epoch 19/100\n",
            "1198/1198 [==============================] - 5s 4ms/step - loss: 0.0044\n",
            "Epoch 20/100\n",
            "1198/1198 [==============================] - 5s 4ms/step - loss: 0.0036\n",
            "Epoch 21/100\n",
            "1198/1198 [==============================] - 5s 4ms/step - loss: 0.0033\n",
            "Epoch 22/100\n",
            "1198/1198 [==============================] - 5s 4ms/step - loss: 0.0036\n",
            "Epoch 23/100\n",
            "1198/1198 [==============================] - 5s 4ms/step - loss: 0.0033\n",
            "Epoch 24/100\n",
            "1198/1198 [==============================] - 5s 4ms/step - loss: 0.0033\n",
            "Epoch 25/100\n",
            "1198/1198 [==============================] - 5s 4ms/step - loss: 0.0030\n",
            "Epoch 26/100\n",
            "1198/1198 [==============================] - 5s 4ms/step - loss: 0.0030\n",
            "Epoch 27/100\n",
            "1198/1198 [==============================] - 5s 4ms/step - loss: 0.0030\n",
            "Epoch 28/100\n",
            "1198/1198 [==============================] - 5s 4ms/step - loss: 0.0032\n",
            "Epoch 29/100\n",
            "1198/1198 [==============================] - 5s 4ms/step - loss: 0.0029\n",
            "Epoch 30/100\n",
            "1198/1198 [==============================] - 5s 4ms/step - loss: 0.0028\n",
            "Epoch 31/100\n",
            "1198/1198 [==============================] - 5s 4ms/step - loss: 0.0029\n",
            "Epoch 32/100\n",
            "1198/1198 [==============================] - 5s 4ms/step - loss: 0.0031\n",
            "Epoch 33/100\n",
            "1198/1198 [==============================] - 5s 4ms/step - loss: 0.0028\n",
            "Epoch 34/100\n",
            "1198/1198 [==============================] - 5s 4ms/step - loss: 0.0029\n",
            "Epoch 35/100\n",
            "1198/1198 [==============================] - 5s 4ms/step - loss: 0.0029\n",
            "Epoch 36/100\n",
            "1198/1198 [==============================] - 5s 4ms/step - loss: 0.0027\n",
            "Epoch 37/100\n",
            "1198/1198 [==============================] - 5s 4ms/step - loss: 0.0029\n",
            "Epoch 38/100\n",
            "1198/1198 [==============================] - 5s 4ms/step - loss: 0.0030\n",
            "Epoch 39/100\n",
            "1198/1198 [==============================] - 5s 4ms/step - loss: 0.0028\n",
            "Epoch 40/100\n",
            "1198/1198 [==============================] - 5s 4ms/step - loss: 0.0034\n",
            "Epoch 41/100\n",
            "1198/1198 [==============================] - 5s 4ms/step - loss: 0.0029\n",
            "Epoch 42/100\n",
            "1198/1198 [==============================] - 5s 4ms/step - loss: 0.0025\n",
            "Epoch 43/100\n",
            "1198/1198 [==============================] - 5s 4ms/step - loss: 0.0026\n",
            "Epoch 44/100\n",
            "1198/1198 [==============================] - 5s 4ms/step - loss: 0.0026\n",
            "Epoch 45/100\n",
            "1198/1198 [==============================] - 5s 4ms/step - loss: 0.0023\n",
            "Epoch 46/100\n",
            "1198/1198 [==============================] - 5s 4ms/step - loss: 0.0023\n",
            "Epoch 47/100\n",
            "1198/1198 [==============================] - 5s 4ms/step - loss: 0.0022\n",
            "Epoch 48/100\n",
            "1198/1198 [==============================] - 5s 4ms/step - loss: 0.0021\n",
            "Epoch 49/100\n",
            "1198/1198 [==============================] - 5s 4ms/step - loss: 0.0024\n",
            "Epoch 50/100\n",
            "1198/1198 [==============================] - 5s 4ms/step - loss: 0.0023\n",
            "Epoch 51/100\n",
            "1198/1198 [==============================] - 5s 4ms/step - loss: 0.0023\n",
            "Epoch 52/100\n",
            "1198/1198 [==============================] - 5s 5ms/step - loss: 0.0023\n",
            "Epoch 53/100\n",
            "1198/1198 [==============================] - 6s 5ms/step - loss: 0.0022\n",
            "Epoch 54/100\n",
            "1198/1198 [==============================] - 5s 4ms/step - loss: 0.0022\n",
            "Epoch 55/100\n",
            "1198/1198 [==============================] - 5s 4ms/step - loss: 0.0022\n",
            "Epoch 56/100\n",
            "1198/1198 [==============================] - 5s 4ms/step - loss: 0.0021\n",
            "Epoch 57/100\n",
            "1198/1198 [==============================] - 5s 4ms/step - loss: 0.0021\n",
            "Epoch 58/100\n",
            "1198/1198 [==============================] - 5s 5ms/step - loss: 0.0022\n",
            "Epoch 59/100\n",
            "1198/1198 [==============================] - 5s 4ms/step - loss: 0.0020\n",
            "Epoch 60/100\n",
            "1198/1198 [==============================] - 5s 4ms/step - loss: 0.0018\n",
            "Epoch 61/100\n",
            "1198/1198 [==============================] - 5s 4ms/step - loss: 0.0021\n",
            "Epoch 62/100\n",
            "1198/1198 [==============================] - 5s 4ms/step - loss: 0.0020\n",
            "Epoch 63/100\n",
            "1198/1198 [==============================] - 5s 4ms/step - loss: 0.0020\n",
            "Epoch 64/100\n",
            "1198/1198 [==============================] - 5s 4ms/step - loss: 0.0020\n",
            "Epoch 65/100\n",
            "1198/1198 [==============================] - 5s 4ms/step - loss: 0.0020\n",
            "Epoch 66/100\n",
            "1198/1198 [==============================] - 5s 5ms/step - loss: 0.0021\n",
            "Epoch 67/100\n",
            "1198/1198 [==============================] - 5s 4ms/step - loss: 0.0017\n",
            "Epoch 68/100\n",
            "1198/1198 [==============================] - 5s 5ms/step - loss: 0.0019\n",
            "Epoch 69/100\n",
            "1198/1198 [==============================] - 5s 4ms/step - loss: 0.0018\n",
            "Epoch 70/100\n",
            "1198/1198 [==============================] - 5s 4ms/step - loss: 0.0018\n",
            "Epoch 71/100\n",
            "1198/1198 [==============================] - 5s 4ms/step - loss: 0.0019\n",
            "Epoch 72/100\n",
            "1198/1198 [==============================] - 5s 4ms/step - loss: 0.0017\n",
            "Epoch 73/100\n",
            "1198/1198 [==============================] - 5s 4ms/step - loss: 0.0018\n",
            "Epoch 74/100\n",
            "1198/1198 [==============================] - 5s 4ms/step - loss: 0.0018\n",
            "Epoch 75/100\n",
            "1198/1198 [==============================] - 5s 5ms/step - loss: 0.0018\n",
            "Epoch 76/100\n",
            "1198/1198 [==============================] - 5s 5ms/step - loss: 0.0016\n",
            "Epoch 77/100\n",
            "1198/1198 [==============================] - 5s 4ms/step - loss: 0.0016\n",
            "Epoch 78/100\n",
            "1198/1198 [==============================] - 5s 4ms/step - loss: 0.0017\n",
            "Epoch 79/100\n",
            "1198/1198 [==============================] - 5s 4ms/step - loss: 0.0018\n",
            "Epoch 80/100\n",
            "1198/1198 [==============================] - 5s 4ms/step - loss: 0.0017\n",
            "Epoch 81/100\n",
            "1198/1198 [==============================] - 5s 4ms/step - loss: 0.0015\n",
            "Epoch 82/100\n",
            "1198/1198 [==============================] - 5s 4ms/step - loss: 0.0015\n",
            "Epoch 83/100\n",
            "1198/1198 [==============================] - 5s 4ms/step - loss: 0.0016\n",
            "Epoch 84/100\n",
            "1198/1198 [==============================] - 5s 4ms/step - loss: 0.0016\n",
            "Epoch 85/100\n",
            "1198/1198 [==============================] - 5s 4ms/step - loss: 0.0017\n",
            "Epoch 86/100\n",
            "1198/1198 [==============================] - 5s 4ms/step - loss: 0.0015\n",
            "Epoch 87/100\n",
            "1198/1198 [==============================] - 5s 5ms/step - loss: 0.0016\n",
            "Epoch 88/100\n",
            "1198/1198 [==============================] - 5s 5ms/step - loss: 0.0014\n",
            "Epoch 89/100\n",
            "1198/1198 [==============================] - 5s 4ms/step - loss: 0.0016\n",
            "Epoch 90/100\n",
            "1198/1198 [==============================] - 5s 5ms/step - loss: 0.0013\n",
            "Epoch 91/100\n",
            "1198/1198 [==============================] - 5s 5ms/step - loss: 0.0016\n",
            "Epoch 92/100\n",
            "1198/1198 [==============================] - 5s 5ms/step - loss: 0.0016\n",
            "Epoch 93/100\n",
            "1198/1198 [==============================] - 5s 5ms/step - loss: 0.0016\n",
            "Epoch 94/100\n",
            "1198/1198 [==============================] - 5s 5ms/step - loss: 0.0015\n",
            "Epoch 95/100\n",
            "1198/1198 [==============================] - 5s 5ms/step - loss: 0.0014\n",
            "Epoch 96/100\n",
            "1198/1198 [==============================] - 6s 5ms/step - loss: 0.0014\n",
            "Epoch 97/100\n",
            "1198/1198 [==============================] - 6s 5ms/step - loss: 0.0016\n",
            "Epoch 98/100\n",
            "1198/1198 [==============================] - 6s 5ms/step - loss: 0.0013\n",
            "Epoch 99/100\n",
            "1198/1198 [==============================] - 6s 5ms/step - loss: 0.0015\n",
            "Epoch 100/100\n",
            "1198/1198 [==============================] - 5s 5ms/step - loss: 0.0015\n"
          ],
          "name": "stdout"
        },
        {
          "output_type": "execute_result",
          "data": {
            "text/plain": [
              "<keras.callbacks.callbacks.History at 0x7f2587163cc0>"
            ]
          },
          "metadata": {
            "tags": []
          },
          "execution_count": 20
        }
      ]
    },
    {
      "cell_type": "markdown",
      "metadata": {
        "id": "hHxfWnwXbEKx",
        "colab_type": "text"
      },
      "source": [
        "## PART 3: Predictions and Visualization"
      ]
    },
    {
      "cell_type": "code",
      "metadata": {
        "id": "Pxf4V1h2lNvs",
        "colab_type": "code",
        "colab": {}
      },
      "source": [
        "# Getting the real stock price of 2017\n",
        "df_test = pd.read_csv('Google_Stock_Price_Test.csv')\n",
        "real_stock_price = df_test.iloc[:, 1:2].values"
      ],
      "execution_count": 21,
      "outputs": []
    },
    {
      "cell_type": "code",
      "metadata": {
        "id": "7bpVzzAYccHm",
        "colab_type": "code",
        "colab": {
          "base_uri": "https://localhost:8080/",
          "height": 357
        },
        "outputId": "a508fdf5-5d6e-4ec0-fe80-86120a1048af"
      },
      "source": [
        "real_stock_price"
      ],
      "execution_count": 22,
      "outputs": [
        {
          "output_type": "execute_result",
          "data": {
            "text/plain": [
              "array([[778.81],\n",
              "       [788.36],\n",
              "       [786.08],\n",
              "       [795.26],\n",
              "       [806.4 ],\n",
              "       [807.86],\n",
              "       [805.  ],\n",
              "       [807.14],\n",
              "       [807.48],\n",
              "       [807.08],\n",
              "       [805.81],\n",
              "       [805.12],\n",
              "       [806.91],\n",
              "       [807.25],\n",
              "       [822.3 ],\n",
              "       [829.62],\n",
              "       [837.81],\n",
              "       [834.71],\n",
              "       [814.66],\n",
              "       [796.86]])"
            ]
          },
          "metadata": {
            "tags": []
          },
          "execution_count": 22
        }
      ]
    },
    {
      "cell_type": "code",
      "metadata": {
        "id": "TkW6TRC7cfSY",
        "colab_type": "code",
        "colab": {}
      },
      "source": [
        "# Getting the predicted stock price of 2017\n",
        "df_total = pd.concat((df_train['Open'], df_test['Open']), axis = 0)\n",
        "inputs = df_total[len(df_total) - len(df_test) - 60:].values\n",
        "inputs = inputs.reshape(-1, 1)\n",
        "inputs = sc.transform(inputs)\n",
        "\n",
        "X_test = []\n",
        "for i in range(60, 80):\n",
        "  X_test.append(inputs[i - 60:i, 0])\n",
        "\n",
        "X_test = np.array(X_test)\n",
        "# Reshaping\n",
        "X_test = np.reshape(X_test, (X_test.shape[0], X_test.shape[1], 1))\n",
        "\n",
        "predicted_stock_price = regressor.predict(X_test)\n",
        "predicted_stock_price = sc.inverse_transform(predicted_stock_price)"
      ],
      "execution_count": 24,
      "outputs": []
    },
    {
      "cell_type": "code",
      "metadata": {
        "id": "llltdaWssHcS",
        "colab_type": "code",
        "colab": {
          "base_uri": "https://localhost:8080/",
          "height": 357
        },
        "outputId": "45902781-5e69-49d4-ecef-e252cc661363"
      },
      "source": [
        "predicted_stock_price"
      ],
      "execution_count": 25,
      "outputs": [
        {
          "output_type": "execute_result",
          "data": {
            "text/plain": [
              "array([[791.9676 ],\n",
              "       [788.8904 ],\n",
              "       [788.89374],\n",
              "       [790.5605 ],\n",
              "       [794.2468 ],\n",
              "       [800.4482 ],\n",
              "       [806.2498 ],\n",
              "       [808.6495 ],\n",
              "       [808.75287],\n",
              "       [808.2629 ],\n",
              "       [808.064  ],\n",
              "       [808.06836],\n",
              "       [808.1013 ],\n",
              "       [808.6502 ],\n",
              "       [809.5384 ],\n",
              "       [814.0199 ],\n",
              "       [821.2478 ],\n",
              "       [829.1754 ],\n",
              "       [833.54254],\n",
              "       [829.1847 ]], dtype=float32)"
            ]
          },
          "metadata": {
            "tags": []
          },
          "execution_count": 25
        }
      ]
    },
    {
      "cell_type": "markdown",
      "metadata": {
        "id": "Ucizcb0yscrz",
        "colab_type": "text"
      },
      "source": [
        "### Visualizing the results"
      ]
    },
    {
      "cell_type": "code",
      "metadata": {
        "id": "R39VGy0fsRgf",
        "colab_type": "code",
        "colab": {
          "base_uri": "https://localhost:8080/",
          "height": 295
        },
        "outputId": "a6de4f75-23d2-4b56-cde3-c2dd4e4e81dc"
      },
      "source": [
        "plt.plot(real_stock_price, color = 'red', label = 'Real Google Stock Price for Jan 2017')\n",
        "plt.plot(predicted_stock_price, color = 'blue', label = 'Pedicted Google Stock Price for Jan 2017')\n",
        "plt.title('Googel Stock Price Prediction')\n",
        "plt.xlabel('Time')\n",
        "plt.ylabel('Google Stock Price')\n",
        "plt.legend()\n",
        "plt.show()"
      ],
      "execution_count": 27,
      "outputs": [
        {
          "output_type": "display_data",
          "data": {
            "image/png": "[encoded data removed]",
            "text/plain": [
              "<Figure size 432x288 with 1 Axes>"
            ]
          },
          "metadata": {
            "tags": [],
            "needs_background": "light"
          }
        }
      ]
    },
    {
      "cell_type": "markdown",
      "metadata": {
        "id": "7CobNGCHuHvg",
        "colab_type": "text"
      },
      "source": [
        "In the parts of the predictions containing some spikes, our model cannot react to fast, non-linear changes. But for the parts with the smooth changes, the model reacts robustly. "
      ]
    },
    {
      "cell_type": "code",
      "metadata": {
        "id": "5jAGWm9fti6e",
        "colab_type": "code",
        "colab": {
          "base_uri": "https://localhost:8080/",
          "height": 34
        },
        "outputId": "329bee0d-b931-4cf7-ecea-09612dd1cfa3"
      },
      "source": [
        "import math\n",
        "from sklearn.metrics import mean_squared_error\n",
        "rmse = math.sqrt(mean_squared_error(real_stock_price, predicted_stock_price))\n",
        "rmse"
      ],
      "execution_count": 28,
      "outputs": [
        {
          "output_type": "execute_result",
          "data": {
            "text/plain": [
              "11.275304749731317"
            ]
          },
          "metadata": {
            "tags": []
          },
          "execution_count": 28
        }
      ]
    },
    {
      "cell_type": "markdown",
      "metadata": {
        "id": "fzb0tZvw1Rkd",
        "colab_type": "text"
      },
      "source": [
        "## PART 4: Improving the RNN model"
      ]
    },
    {
      "cell_type": "markdown",
      "metadata": {
        "id": "x_zD75311Zti",
        "colab_type": "text"
      },
      "source": [
        "1. Getting more train data: Training the model on the past 10 years data.  \n",
        "2. Increasing the no.of timesteps to 120 (6 months).  \n",
        "3. Adding more LSTM layers to 6.\n",
        "4. Adding more neurons in the LSTM layers."
      ]
    },
    {
      "cell_type": "code",
      "metadata": {
        "id": "6Xu7k-26wLoA",
        "colab_type": "code",
        "colab": {}
      },
      "source": [
        "df_train_ten = pd.read_csv('Google_Stock_Price_Train_10_years.csv')"
      ],
      "execution_count": 29,
      "outputs": []
    },
    {
      "cell_type": "code",
      "metadata": {
        "id": "xZwwk8KG24cF",
        "colab_type": "code",
        "colab": {
          "base_uri": "https://localhost:8080/",
          "height": 204
        },
        "outputId": "3e9b6162-f728-4620-a42b-94e5303acec9"
      },
      "source": [
        "df_train_ten.head()"
      ],
      "execution_count": 30,
      "outputs": [
        {
          "output_type": "execute_result",
          "data": {
            "text/html": [
              "<div>\n",
              "<style scoped>\n",
              "    .dataframe tbody tr th:only-of-type {\n",
              "        vertical-align: middle;\n",
              "    }\n",
              "\n",
              "    .dataframe tbody tr th {\n",
              "        vertical-align: top;\n",
              "    }\n",
              "\n",
              "    .dataframe thead th {\n",
              "        text-align: right;\n",
              "    }\n",
              "</style>\n",
              "<table border=\"1\" class=\"dataframe\">\n",
              "  <thead>\n",
              "    <tr style=\"text-align: right;\">\n",
              "      <th></th>\n",
              "      <th>Date</th>\n",
              "      <th>Open</th>\n",
              "      <th>High</th>\n",
              "      <th>Low</th>\n",
              "      <th>Close</th>\n",
              "      <th>Adj Close</th>\n",
              "      <th>Volume</th>\n",
              "    </tr>\n",
              "  </thead>\n",
              "  <tbody>\n",
              "    <tr>\n",
              "      <th>0</th>\n",
              "      <td>2010-01-21</td>\n",
              "      <td>290.630646</td>\n",
              "      <td>292.314331</td>\n",
              "      <td>285.056549</td>\n",
              "      <td>290.401489</td>\n",
              "      <td>290.401489</td>\n",
              "      <td>12662600</td>\n",
              "    </tr>\n",
              "    <tr>\n",
              "      <th>1</th>\n",
              "      <td>2010-01-22</td>\n",
              "      <td>281.196014</td>\n",
              "      <td>284.234619</td>\n",
              "      <td>266.431335</td>\n",
              "      <td>273.978058</td>\n",
              "      <td>273.978058</td>\n",
              "      <td>13651700</td>\n",
              "    </tr>\n",
              "    <tr>\n",
              "      <th>2</th>\n",
              "      <td>2010-01-25</td>\n",
              "      <td>272.274445</td>\n",
              "      <td>273.913300</td>\n",
              "      <td>266.755127</td>\n",
              "      <td>268.991760</td>\n",
              "      <td>268.991760</td>\n",
              "      <td>8872800</td>\n",
              "    </tr>\n",
              "    <tr>\n",
              "      <th>3</th>\n",
              "      <td>2010-01-26</td>\n",
              "      <td>267.980530</td>\n",
              "      <td>273.773834</td>\n",
              "      <td>267.143677</td>\n",
              "      <td>270.197235</td>\n",
              "      <td>270.197235</td>\n",
              "      <td>8743600</td>\n",
              "    </tr>\n",
              "    <tr>\n",
              "      <th>4</th>\n",
              "      <td>2010-01-27</td>\n",
              "      <td>269.624390</td>\n",
              "      <td>272.802460</td>\n",
              "      <td>266.655518</td>\n",
              "      <td>270.037842</td>\n",
              "      <td>270.037842</td>\n",
              "      <td>7958400</td>\n",
              "    </tr>\n",
              "  </tbody>\n",
              "</table>\n",
              "</div>"
            ],
            "text/plain": [
              "         Date        Open        High  ...       Close   Adj Close    Volume\n",
              "0  2010-01-21  290.630646  292.314331  ...  290.401489  290.401489  12662600\n",
              "1  2010-01-22  281.196014  284.234619  ...  273.978058  273.978058  13651700\n",
              "2  2010-01-25  272.274445  273.913300  ...  268.991760  268.991760   8872800\n",
              "3  2010-01-26  267.980530  273.773834  ...  270.197235  270.197235   8743600\n",
              "4  2010-01-27  269.624390  272.802460  ...  270.037842  270.037842   7958400\n",
              "\n",
              "[5 rows x 7 columns]"
            ]
          },
          "metadata": {
            "tags": []
          },
          "execution_count": 30
        }
      ]
    },
    {
      "cell_type": "code",
      "metadata": {
        "id": "dLv9FGNa5BtV",
        "colab_type": "code",
        "colab": {
          "base_uri": "https://localhost:8080/",
          "height": 34
        },
        "outputId": "3743f7a2-3303-46ea-9279-d2d6e6a5531d"
      },
      "source": [
        "df_train_ten.shape"
      ],
      "execution_count": 32,
      "outputs": [
        {
          "output_type": "execute_result",
          "data": {
            "text/plain": [
              "(2607, 7)"
            ]
          },
          "metadata": {
            "tags": []
          },
          "execution_count": 32
        }
      ]
    },
    {
      "cell_type": "code",
      "metadata": {
        "id": "pnN-euHf28ur",
        "colab_type": "code",
        "colab": {
          "base_uri": "https://localhost:8080/",
          "height": 204
        },
        "outputId": "35b25c37-fb27-4722-e1f9-3fa52361656d"
      },
      "source": [
        "df_test_ten = pd.read_csv('Google_Stock_Price_Test_10_years.csv')\n",
        "df_test_ten.head()"
      ],
      "execution_count": 31,
      "outputs": [
        {
          "output_type": "execute_result",
          "data": {
            "text/html": [
              "<div>\n",
              "<style scoped>\n",
              "    .dataframe tbody tr th:only-of-type {\n",
              "        vertical-align: middle;\n",
              "    }\n",
              "\n",
              "    .dataframe tbody tr th {\n",
              "        vertical-align: top;\n",
              "    }\n",
              "\n",
              "    .dataframe thead th {\n",
              "        text-align: right;\n",
              "    }\n",
              "</style>\n",
              "<table border=\"1\" class=\"dataframe\">\n",
              "  <thead>\n",
              "    <tr style=\"text-align: right;\">\n",
              "      <th></th>\n",
              "      <th>Date</th>\n",
              "      <th>Open</th>\n",
              "      <th>High</th>\n",
              "      <th>Low</th>\n",
              "      <th>Close</th>\n",
              "      <th>Adj Close</th>\n",
              "      <th>Volume</th>\n",
              "    </tr>\n",
              "  </thead>\n",
              "  <tbody>\n",
              "    <tr>\n",
              "      <th>0</th>\n",
              "      <td>2020-06-01</td>\n",
              "      <td>1418.390015</td>\n",
              "      <td>1437.959961</td>\n",
              "      <td>1418.000000</td>\n",
              "      <td>1431.819946</td>\n",
              "      <td>1431.819946</td>\n",
              "      <td>1217100</td>\n",
              "    </tr>\n",
              "    <tr>\n",
              "      <th>1</th>\n",
              "      <td>2020-06-02</td>\n",
              "      <td>1430.550049</td>\n",
              "      <td>1439.609985</td>\n",
              "      <td>1418.829956</td>\n",
              "      <td>1439.219971</td>\n",
              "      <td>1439.219971</td>\n",
              "      <td>1278100</td>\n",
              "    </tr>\n",
              "    <tr>\n",
              "      <th>2</th>\n",
              "      <td>2020-06-03</td>\n",
              "      <td>1438.300049</td>\n",
              "      <td>1446.552002</td>\n",
              "      <td>1429.776978</td>\n",
              "      <td>1436.380005</td>\n",
              "      <td>1436.380005</td>\n",
              "      <td>1256200</td>\n",
              "    </tr>\n",
              "    <tr>\n",
              "      <th>3</th>\n",
              "      <td>2020-06-04</td>\n",
              "      <td>1430.400024</td>\n",
              "      <td>1438.959961</td>\n",
              "      <td>1404.729980</td>\n",
              "      <td>1412.180054</td>\n",
              "      <td>1412.180054</td>\n",
              "      <td>1484300</td>\n",
              "    </tr>\n",
              "    <tr>\n",
              "      <th>4</th>\n",
              "      <td>2020-06-05</td>\n",
              "      <td>1413.170044</td>\n",
              "      <td>1445.050049</td>\n",
              "      <td>1406.000000</td>\n",
              "      <td>1438.390015</td>\n",
              "      <td>1438.390015</td>\n",
              "      <td>1734900</td>\n",
              "    </tr>\n",
              "  </tbody>\n",
              "</table>\n",
              "</div>"
            ],
            "text/plain": [
              "         Date         Open         High  ...        Close    Adj Close   Volume\n",
              "0  2020-06-01  1418.390015  1437.959961  ...  1431.819946  1431.819946  1217100\n",
              "1  2020-06-02  1430.550049  1439.609985  ...  1439.219971  1439.219971  1278100\n",
              "2  2020-06-03  1438.300049  1446.552002  ...  1436.380005  1436.380005  1256200\n",
              "3  2020-06-04  1430.400024  1438.959961  ...  1412.180054  1412.180054  1484300\n",
              "4  2020-06-05  1413.170044  1445.050049  ...  1438.390015  1438.390015  1734900\n",
              "\n",
              "[5 rows x 7 columns]"
            ]
          },
          "metadata": {
            "tags": []
          },
          "execution_count": 31
        }
      ]
    },
    {
      "cell_type": "code",
      "metadata": {
        "id": "8agaVFmn4-15",
        "colab_type": "code",
        "colab": {
          "base_uri": "https://localhost:8080/",
          "height": 34
        },
        "outputId": "95bdf1b4-dbd1-45f0-c818-ef8b689b0d2e"
      },
      "source": [
        "df_test_ten.shape"
      ],
      "execution_count": 33,
      "outputs": [
        {
          "output_type": "execute_result",
          "data": {
            "text/plain": [
              "(15, 7)"
            ]
          },
          "metadata": {
            "tags": []
          },
          "execution_count": 33
        }
      ]
    },
    {
      "cell_type": "code",
      "metadata": {
        "id": "onF1av3v5IYh",
        "colab_type": "code",
        "colab": {}
      },
      "source": [
        "training_set = df_train_ten.iloc[:, 1:2].values\n",
        "\n",
        "# Normalization\n",
        "sc = MinMaxScaler(feature_range = (0, 1))\n",
        "training_set_scaled = sc.fit_transform(training_set)"
      ],
      "execution_count": 34,
      "outputs": []
    },
    {
      "cell_type": "code",
      "metadata": {
        "id": "ObSzclnX6gyt",
        "colab_type": "code",
        "colab": {}
      },
      "source": [
        "# Creating a data structure with 60 timeseps and 1 output\n",
        "X_train = []\n",
        "y_train = []\n",
        "for i in range(120, 2607):\n",
        "  X_train.append(training_set_scaled[i - 120:i, 0])\n",
        "  y_train.append(training_set_scaled[i, 0])\n",
        "\n",
        "X_train, y_train = np.array(X_train), np.array(y_train)"
      ],
      "execution_count": 36,
      "outputs": []
    },
    {
      "cell_type": "code",
      "metadata": {
        "id": "BKMJGaeu7q5s",
        "colab_type": "code",
        "colab": {}
      },
      "source": [
        "# Reshaping\n",
        "X_train = np.reshape(X_train, (X_train.shape[0], X_train.shape[1], 1))"
      ],
      "execution_count": 37,
      "outputs": []
    },
    {
      "cell_type": "code",
      "metadata": {
        "id": "TIywQGw97x7n",
        "colab_type": "code",
        "colab": {
          "base_uri": "https://localhost:8080/",
          "height": 34
        },
        "outputId": "0ccb4450-8ce2-45c8-c7dd-970ba9291f8c"
      },
      "source": [
        "X_train.shape"
      ],
      "execution_count": 38,
      "outputs": [
        {
          "output_type": "execute_result",
          "data": {
            "text/plain": [
              "(2487, 120, 1)"
            ]
          },
          "metadata": {
            "tags": []
          },
          "execution_count": 38
        }
      ]
    },
    {
      "cell_type": "code",
      "metadata": {
        "id": "-pO3EJ3U9uxx",
        "colab_type": "code",
        "colab": {
          "base_uri": "https://localhost:8080/",
          "height": 459
        },
        "outputId": "854207c6-ee10-44d5-a350-aa91e01e4f77"
      },
      "source": [
        "regressor.summary()"
      ],
      "execution_count": 40,
      "outputs": [
        {
          "output_type": "stream",
          "text": [
            "Model: \"sequential_1\"\n",
            "_________________________________________________________________\n",
            "Layer (type)                 Output Shape              Param #   \n",
            "=================================================================\n",
            "lstm_1 (LSTM)                (None, 60, 50)            10400     \n",
            "_________________________________________________________________\n",
            "dropout_1 (Dropout)          (None, 60, 50)            0         \n",
            "_________________________________________________________________\n",
            "lstm_2 (LSTM)                (None, 60, 50)            20200     \n",
            "_________________________________________________________________\n",
            "dropout_2 (Dropout)          (None, 60, 50)            0         \n",
            "_________________________________________________________________\n",
            "lstm_3 (LSTM)                (None, 60, 50)            20200     \n",
            "_________________________________________________________________\n",
            "dropout_3 (Dropout)          (None, 60, 50)            0         \n",
            "_________________________________________________________________\n",
            "lstm_4 (LSTM)                (None, 50)                20200     \n",
            "_________________________________________________________________\n",
            "dropout_4 (Dropout)          (None, 50)                0         \n",
            "_________________________________________________________________\n",
            "dense_1 (Dense)              (None, 1)                 51        \n",
            "=================================================================\n",
            "Total params: 71,051\n",
            "Trainable params: 71,051\n",
            "Non-trainable params: 0\n",
            "_________________________________________________________________\n"
          ],
          "name": "stdout"
        }
      ]
    },
    {
      "cell_type": "markdown",
      "metadata": {
        "id": "EM7yGasi-kFa",
        "colab_type": "text"
      },
      "source": [
        "### Building RNN model"
      ]
    },
    {
      "cell_type": "code",
      "metadata": {
        "id": "9QvUaX0l9TbZ",
        "colab_type": "code",
        "colab": {}
      },
      "source": [
        "model = Sequential()\n",
        "# First LSTM layer and Dropout Regularization \n",
        "model.add(LSTM(units = 100, return_sequences = True, input_shape = (X_train.shape[1], 1)))\n",
        "model.add(Dropout(0.2))\n",
        "# Second LSTM layer and Dropout Regularization\n",
        "model.add(LSTM(units = 100, return_sequences = True))\n",
        "model.add(Dropout(0.2))\n",
        "# Third LSTM layer and Dropout Regularization\n",
        "model.add(LSTM(units = 100, return_sequences = True))\n",
        "model.add(Dropout(0.2))\n",
        "# Fourth LSTM layer and Dropout Regularization\n",
        "model.add(LSTM(units = 100, return_sequences = True))\n",
        "model.add(Dropout(0.2))\n",
        "# Fifth LSTM layer and Dropout Regularization\n",
        "model.add(LSTM(units = 100, return_sequences = True))\n",
        "model.add(Dropout(0.2))\n",
        "# Sixth LSTM layer and Dropout Regularization\n",
        "model.add(LSTM(units = 100))\n",
        "model.add(Dropout(0.2))\n",
        "# Adding the Output Layer\n",
        "model.add(Dense(units = 1))"
      ],
      "execution_count": 41,
      "outputs": []
    },
    {
      "cell_type": "code",
      "metadata": {
        "id": "Yve4adXy_Xs7",
        "colab_type": "code",
        "colab": {
          "base_uri": "https://localhost:8080/",
          "height": 595
        },
        "outputId": "a069b873-2be1-4cbe-a40f-15bc6b74e161"
      },
      "source": [
        "model.summary()"
      ],
      "execution_count": 42,
      "outputs": [
        {
          "output_type": "stream",
          "text": [
            "Model: \"sequential_2\"\n",
            "_________________________________________________________________\n",
            "Layer (type)                 Output Shape              Param #   \n",
            "=================================================================\n",
            "lstm_5 (LSTM)                (None, 120, 100)          40800     \n",
            "_________________________________________________________________\n",
            "dropout_5 (Dropout)          (None, 120, 100)          0         \n",
            "_________________________________________________________________\n",
            "lstm_6 (LSTM)                (None, 120, 100)          80400     \n",
            "_________________________________________________________________\n",
            "dropout_6 (Dropout)          (None, 120, 100)          0         \n",
            "_________________________________________________________________\n",
            "lstm_7 (LSTM)                (None, 120, 100)          80400     \n",
            "_________________________________________________________________\n",
            "dropout_7 (Dropout)          (None, 120, 100)          0         \n",
            "_________________________________________________________________\n",
            "lstm_8 (LSTM)                (None, 120, 100)          80400     \n",
            "_________________________________________________________________\n",
            "dropout_8 (Dropout)          (None, 120, 100)          0         \n",
            "_________________________________________________________________\n",
            "lstm_9 (LSTM)                (None, 120, 100)          80400     \n",
            "_________________________________________________________________\n",
            "dropout_9 (Dropout)          (None, 120, 100)          0         \n",
            "_________________________________________________________________\n",
            "lstm_10 (LSTM)               (None, 100)               80400     \n",
            "_________________________________________________________________\n",
            "dropout_10 (Dropout)         (None, 100)               0         \n",
            "_________________________________________________________________\n",
            "dense_2 (Dense)              (None, 1)                 101       \n",
            "=================================================================\n",
            "Total params: 442,901\n",
            "Trainable params: 442,901\n",
            "Non-trainable params: 0\n",
            "_________________________________________________________________\n"
          ],
          "name": "stdout"
        }
      ]
    },
    {
      "cell_type": "code",
      "metadata": {
        "id": "XURes6_r_Ze0",
        "colab_type": "code",
        "colab": {
          "base_uri": "https://localhost:8080/",
          "height": 1000
        },
        "outputId": "d2ea643c-1e3c-49c2-a53d-0482009d2116"
      },
      "source": [
        "# Compiling the RNN\n",
        "model.compile(optimizer = 'adam', loss = 'mean_squared_error')\n",
        "# Fitting the RNN to the Training Set\n",
        "model.fit(x = X_train, y = y_train, epochs = 100, batch_size = 32)"
      ],
      "execution_count": 43,
      "outputs": [
        {
          "output_type": "stream",
          "text": [
            "Epoch 1/100\n",
            "2487/2487 [==============================] - 57s 23ms/step - loss: 0.0126\n",
            "Epoch 2/100\n",
            "2487/2487 [==============================] - 53s 21ms/step - loss: 0.0027\n",
            "Epoch 3/100\n",
            "2487/2487 [==============================] - 54s 22ms/step - loss: 0.0029\n",
            "Epoch 4/100\n",
            "2487/2487 [==============================] - 53s 21ms/step - loss: 0.0030\n",
            "Epoch 5/100\n",
            "2487/2487 [==============================] - 53s 21ms/step - loss: 0.0022\n",
            "Epoch 6/100\n",
            "2487/2487 [==============================] - 53s 21ms/step - loss: 0.0021\n",
            "Epoch 7/100\n",
            "2487/2487 [==============================] - 52s 21ms/step - loss: 0.0021\n",
            "Epoch 8/100\n",
            "2487/2487 [==============================] - 55s 22ms/step - loss: 0.0018\n",
            "Epoch 9/100\n",
            "2487/2487 [==============================] - 54s 22ms/step - loss: 0.0017\n",
            "Epoch 10/100\n",
            "2487/2487 [==============================] - 52s 21ms/step - loss: 0.0017\n",
            "Epoch 11/100\n",
            "2487/2487 [==============================] - 52s 21ms/step - loss: 0.0016\n",
            "Epoch 12/100\n",
            "2487/2487 [==============================] - 52s 21ms/step - loss: 0.0014\n",
            "Epoch 13/100\n",
            "2487/2487 [==============================] - 53s 21ms/step - loss: 0.0019\n",
            "Epoch 14/100\n",
            "2487/2487 [==============================] - 54s 22ms/step - loss: 0.0018\n",
            "Epoch 15/100\n",
            "2487/2487 [==============================] - 53s 21ms/step - loss: 0.0013\n",
            "Epoch 16/100\n",
            "2487/2487 [==============================] - 54s 22ms/step - loss: 0.0014\n",
            "Epoch 17/100\n",
            "2487/2487 [==============================] - 53s 21ms/step - loss: 0.0013\n",
            "Epoch 18/100\n",
            "2487/2487 [==============================] - 52s 21ms/step - loss: 0.0015\n",
            "Epoch 19/100\n",
            "2487/2487 [==============================] - 52s 21ms/step - loss: 0.0012\n",
            "Epoch 20/100\n",
            "2487/2487 [==============================] - 52s 21ms/step - loss: 0.0013\n",
            "Epoch 21/100\n",
            "2487/2487 [==============================] - 53s 21ms/step - loss: 0.0012\n",
            "Epoch 22/100\n",
            "2487/2487 [==============================] - 53s 22ms/step - loss: 0.0014\n",
            "Epoch 23/100\n",
            "2487/2487 [==============================] - 54s 22ms/step - loss: 0.0012\n",
            "Epoch 24/100\n",
            "2487/2487 [==============================] - 55s 22ms/step - loss: 0.0012\n",
            "Epoch 25/100\n",
            "2487/2487 [==============================] - 55s 22ms/step - loss: 0.0012\n",
            "Epoch 26/100\n",
            "2487/2487 [==============================] - 55s 22ms/step - loss: 0.0013\n",
            "Epoch 27/100\n",
            "2487/2487 [==============================] - 55s 22ms/step - loss: 0.0012\n",
            "Epoch 28/100\n",
            "2487/2487 [==============================] - 54s 22ms/step - loss: 0.0013\n",
            "Epoch 29/100\n",
            "2487/2487 [==============================] - 55s 22ms/step - loss: 0.0011\n",
            "Epoch 30/100\n",
            "2487/2487 [==============================] - 55s 22ms/step - loss: 0.0013\n",
            "Epoch 31/100\n",
            "2487/2487 [==============================] - 54s 22ms/step - loss: 0.0011\n",
            "Epoch 32/100\n",
            "2487/2487 [==============================] - 55s 22ms/step - loss: 0.0011\n",
            "Epoch 33/100\n",
            "2487/2487 [==============================] - 55s 22ms/step - loss: 0.0010\n",
            "Epoch 34/100\n",
            "2487/2487 [==============================] - 55s 22ms/step - loss: 0.0011\n",
            "Epoch 35/100\n",
            "2487/2487 [==============================] - 55s 22ms/step - loss: 9.6535e-04\n",
            "Epoch 36/100\n",
            "2487/2487 [==============================] - 55s 22ms/step - loss: 0.0010\n",
            "Epoch 37/100\n",
            "2487/2487 [==============================] - 55s 22ms/step - loss: 0.0011\n",
            "Epoch 38/100\n",
            "2487/2487 [==============================] - 55s 22ms/step - loss: 8.8674e-04\n",
            "Epoch 39/100\n",
            "2487/2487 [==============================] - 55s 22ms/step - loss: 9.6595e-04\n",
            "Epoch 40/100\n",
            "2487/2487 [==============================] - 54s 22ms/step - loss: 8.1320e-04\n",
            "Epoch 41/100\n",
            "2487/2487 [==============================] - 55s 22ms/step - loss: 8.6778e-04\n",
            "Epoch 42/100\n",
            "2487/2487 [==============================] - 54s 22ms/step - loss: 7.7864e-04\n",
            "Epoch 43/100\n",
            "2487/2487 [==============================] - 55s 22ms/step - loss: 9.6643e-04\n",
            "Epoch 44/100\n",
            "2487/2487 [==============================] - 55s 22ms/step - loss: 0.0012\n",
            "Epoch 45/100\n",
            "2487/2487 [==============================] - 54s 22ms/step - loss: 8.6013e-04\n",
            "Epoch 46/100\n",
            "2487/2487 [==============================] - 54s 22ms/step - loss: 9.8601e-04\n",
            "Epoch 47/100\n",
            "2487/2487 [==============================] - 55s 22ms/step - loss: 9.1541e-04\n",
            "Epoch 48/100\n",
            "2487/2487 [==============================] - 53s 21ms/step - loss: 8.1351e-04\n",
            "Epoch 49/100\n",
            "2487/2487 [==============================] - 53s 21ms/step - loss: 7.6766e-04\n",
            "Epoch 50/100\n",
            "2487/2487 [==============================] - 53s 21ms/step - loss: 7.5723e-04\n",
            "Epoch 51/100\n",
            "2487/2487 [==============================] - 54s 22ms/step - loss: 6.8659e-04\n",
            "Epoch 52/100\n",
            "2487/2487 [==============================] - 53s 21ms/step - loss: 7.7777e-04\n",
            "Epoch 53/100\n",
            "2487/2487 [==============================] - 53s 21ms/step - loss: 9.2553e-04\n",
            "Epoch 54/100\n",
            "2487/2487 [==============================] - 53s 21ms/step - loss: 8.0658e-04\n",
            "Epoch 55/100\n",
            "2487/2487 [==============================] - 53s 21ms/step - loss: 8.0298e-04\n",
            "Epoch 56/100\n",
            "2487/2487 [==============================] - 53s 21ms/step - loss: 7.7191e-04\n",
            "Epoch 57/100\n",
            "2487/2487 [==============================] - 52s 21ms/step - loss: 7.0974e-04\n",
            "Epoch 58/100\n",
            "2487/2487 [==============================] - 52s 21ms/step - loss: 8.5112e-04\n",
            "Epoch 59/100\n",
            "2487/2487 [==============================] - 52s 21ms/step - loss: 7.7786e-04\n",
            "Epoch 60/100\n",
            "2487/2487 [==============================] - 53s 21ms/step - loss: 7.0412e-04\n",
            "Epoch 61/100\n",
            "2487/2487 [==============================] - 53s 21ms/step - loss: 7.9378e-04\n",
            "Epoch 62/100\n",
            "2487/2487 [==============================] - 52s 21ms/step - loss: 7.3128e-04\n",
            "Epoch 63/100\n",
            "2487/2487 [==============================] - 52s 21ms/step - loss: 8.1173e-04\n",
            "Epoch 64/100\n",
            "2487/2487 [==============================] - 52s 21ms/step - loss: 7.0173e-04\n",
            "Epoch 65/100\n",
            "2487/2487 [==============================] - 52s 21ms/step - loss: 8.3229e-04\n",
            "Epoch 66/100\n",
            "2487/2487 [==============================] - 53s 21ms/step - loss: 6.8917e-04\n",
            "Epoch 67/100\n",
            "2487/2487 [==============================] - 53s 21ms/step - loss: 7.6362e-04\n",
            "Epoch 68/100\n",
            "2487/2487 [==============================] - 53s 21ms/step - loss: 7.7119e-04\n",
            "Epoch 69/100\n",
            "2487/2487 [==============================] - 53s 21ms/step - loss: 7.4428e-04\n",
            "Epoch 70/100\n",
            "2487/2487 [==============================] - 55s 22ms/step - loss: 0.0010\n",
            "Epoch 71/100\n",
            "2487/2487 [==============================] - 52s 21ms/step - loss: 6.9104e-04\n",
            "Epoch 72/100\n",
            "2487/2487 [==============================] - 52s 21ms/step - loss: 6.3602e-04\n",
            "Epoch 73/100\n",
            "2487/2487 [==============================] - 52s 21ms/step - loss: 6.8064e-04\n",
            "Epoch 74/100\n",
            "2487/2487 [==============================] - 52s 21ms/step - loss: 6.9421e-04\n",
            "Epoch 75/100\n",
            "2487/2487 [==============================] - 53s 21ms/step - loss: 5.5983e-04\n",
            "Epoch 76/100\n",
            "2487/2487 [==============================] - 52s 21ms/step - loss: 7.1096e-04\n",
            "Epoch 77/100\n",
            "2487/2487 [==============================] - 52s 21ms/step - loss: 6.8422e-04\n",
            "Epoch 78/100\n",
            "2487/2487 [==============================] - 52s 21ms/step - loss: 7.7899e-04\n",
            "Epoch 79/100\n",
            "2487/2487 [==============================] - 52s 21ms/step - loss: 5.7038e-04\n",
            "Epoch 80/100\n",
            "2487/2487 [==============================] - 52s 21ms/step - loss: 5.8493e-04\n",
            "Epoch 81/100\n",
            "2487/2487 [==============================] - 52s 21ms/step - loss: 6.6271e-04\n",
            "Epoch 82/100\n",
            "2487/2487 [==============================] - 52s 21ms/step - loss: 6.7351e-04\n",
            "Epoch 83/100\n",
            "2487/2487 [==============================] - 52s 21ms/step - loss: 7.4544e-04\n",
            "Epoch 84/100\n",
            "2487/2487 [==============================] - 52s 21ms/step - loss: 6.5560e-04\n",
            "Epoch 85/100\n",
            "2487/2487 [==============================] - 52s 21ms/step - loss: 6.0342e-04\n",
            "Epoch 86/100\n",
            "2487/2487 [==============================] - 52s 21ms/step - loss: 6.8435e-04\n",
            "Epoch 87/100\n",
            "2487/2487 [==============================] - 52s 21ms/step - loss: 5.9045e-04\n",
            "Epoch 88/100\n",
            "2487/2487 [==============================] - 54s 22ms/step - loss: 6.2910e-04\n",
            "Epoch 89/100\n",
            "2487/2487 [==============================] - 59s 24ms/step - loss: 5.8642e-04\n",
            "Epoch 90/100\n",
            "2487/2487 [==============================] - 59s 24ms/step - loss: 6.0018e-04\n",
            "Epoch 91/100\n",
            "2487/2487 [==============================] - 59s 24ms/step - loss: 6.1988e-04\n",
            "Epoch 92/100\n",
            "2487/2487 [==============================] - 59s 24ms/step - loss: 6.0526e-04\n",
            "Epoch 93/100\n",
            "2487/2487 [==============================] - 59s 24ms/step - loss: 6.8106e-04\n",
            "Epoch 94/100\n",
            "2487/2487 [==============================] - 59s 24ms/step - loss: 6.4504e-04\n",
            "Epoch 95/100\n",
            "2487/2487 [==============================] - 59s 24ms/step - loss: 0.0010\n",
            "Epoch 96/100\n",
            "2487/2487 [==============================] - 59s 24ms/step - loss: 6.0069e-04\n",
            "Epoch 97/100\n",
            "2487/2487 [==============================] - 59s 24ms/step - loss: 5.0290e-04\n",
            "Epoch 98/100\n",
            "2487/2487 [==============================] - 58s 23ms/step - loss: 5.8892e-04\n",
            "Epoch 99/100\n",
            "2487/2487 [==============================] - 59s 24ms/step - loss: 5.2378e-04\n",
            "Epoch 100/100\n",
            "2487/2487 [==============================] - 58s 23ms/step - loss: 4.8471e-04\n"
          ],
          "name": "stdout"
        },
        {
          "output_type": "execute_result",
          "data": {
            "text/plain": [
              "<keras.callbacks.callbacks.History at 0x7f2582d08dd8>"
            ]
          },
          "metadata": {
            "tags": []
          },
          "execution_count": 43
        }
      ]
    },
    {
      "cell_type": "code",
      "metadata": {
        "id": "1dAKGnft_wYt",
        "colab_type": "code",
        "colab": {}
      },
      "source": [
        "real_stock_price = df_test_ten.iloc[:, 1:2].values"
      ],
      "execution_count": 44,
      "outputs": []
    },
    {
      "cell_type": "code",
      "metadata": {
        "id": "pCqVzmDwUxAN",
        "colab_type": "code",
        "colab": {
          "base_uri": "https://localhost:8080/",
          "height": 272
        },
        "outputId": "12c5e487-03b1-4dff-b69b-b557025e483a"
      },
      "source": [
        "# Getting the predicted stock price of 2017\n",
        "df_total = pd.concat((df_train_ten['Open'], df_test_ten['Open']), axis = 0)\n",
        "inputs = df_total[len(df_total) - len(df_test_ten) - 120:].values\n",
        "inputs = inputs.reshape(-1, 1)\n",
        "inputs = sc.transform(inputs)\n",
        "\n",
        "X_test = []\n",
        "for i in range(120, 135):\n",
        "  X_test.append(inputs[i - 120:i, 0])\n",
        "\n",
        "X_test = np.array(X_test)\n",
        "# Reshaping\n",
        "X_test = np.reshape(X_test, (X_test.shape[0], X_test.shape[1], 1))\n",
        "\n",
        "predicted_stock_price = model.predict(X_test)\n",
        "predicted_stock_price = sc.inverse_transform(predicted_stock_price)\n",
        "predicted_stock_price"
      ],
      "execution_count": 46,
      "outputs": [
        {
          "output_type": "execute_result",
          "data": {
            "text/plain": [
              "array([[1408.2291],\n",
              "       [1411.7571],\n",
              "       [1418.219 ],\n",
              "       [1423.8491],\n",
              "       [1425.3796],\n",
              "       [1422.4128],\n",
              "       [1423.7494],\n",
              "       [1429.9884],\n",
              "       [1436.6609],\n",
              "       [1436.3088],\n",
              "       [1433.1605],\n",
              "       [1421.3164],\n",
              "       [1429.267 ],\n",
              "       [1431.659 ],\n",
              "       [1433.7603]], dtype=float32)"
            ]
          },
          "metadata": {
            "tags": []
          },
          "execution_count": 46
        }
      ]
    },
    {
      "cell_type": "code",
      "metadata": {
        "id": "MMA2YeyLVKSS",
        "colab_type": "code",
        "colab": {
          "base_uri": "https://localhost:8080/",
          "height": 295
        },
        "outputId": "e2c370c2-6140-40fa-e37c-f2f8c2d9bf8a"
      },
      "source": [
        "plt.plot(real_stock_price, color = 'red', label = 'Real Google Stock Price for June 2020')\n",
        "plt.plot(predicted_stock_price, color = 'blue', label = 'Pedicted Google Stock Price for June 2020')\n",
        "plt.title('Googel Stock Price Prediction')\n",
        "plt.xlabel('Time')\n",
        "plt.ylabel('Google Stock Price')\n",
        "plt.legend()\n",
        "plt.show()"
      ],
      "execution_count": 47,
      "outputs": [
        {
          "output_type": "display_data",
          "data": {
            "image/png": "[encoded data removed]",
            "text/plain": [
              "<Figure size 432x288 with 1 Axes>"
            ]
          },
          "metadata": {
            "tags": [],
            "needs_background": "light"
          }
        }
      ]
    },
    {
      "cell_type": "code",
      "metadata": {
        "id": "90rHBcNmVcrJ",
        "colab_type": "code",
        "colab": {
          "base_uri": "https://localhost:8080/",
          "height": 34
        },
        "outputId": "54e8edd3-224f-4f7b-eae5-e7086ef2d1f3"
      },
      "source": [
        "rmse = math.sqrt(mean_squared_error(real_stock_price, predicted_stock_price))\n",
        "rmse"
      ],
      "execution_count": 48,
      "outputs": [
        {
          "output_type": "execute_result",
          "data": {
            "text/plain": [
              "19.294323301156265"
            ]
          },
          "metadata": {
            "tags": []
          },
          "execution_count": 48
        }
      ]
    },
    {
      "cell_type": "code",
      "metadata": {
        "id": "y24a7V-mVltx",
        "colab_type": "code",
        "colab": {}
      },
      "source": [
        ""
      ],
      "execution_count": null,
      "outputs": []
    }
  ]
}